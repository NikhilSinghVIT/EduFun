{
  "nbformat": 4,
  "nbformat_minor": 0,
  "metadata": {
    "colab": {
      "name": "Text Summarizer",
      "provenance": [],
      "collapsed_sections": []
    },
    "kernelspec": {
      "name": "python3",
      "display_name": "Python 3"
    },
    "accelerator": "GPU"
  },
  "cells": [
    {
      "cell_type": "code",
      "metadata": {
        "id": "3I3I5h2JuOXp",
        "colab_type": "code",
        "outputId": "1ab3f7b2-38f3-455a-dd91-fc072618daab",
        "colab": {
          "base_uri": "https://localhost:8080/",
          "height": 62
        }
      },
      "source": [
        "from attention import AttentionLayer"
      ],
      "execution_count": 0,
      "outputs": [
        {
          "output_type": "display_data",
          "data": {
            "text/html": [
              "<p style=\"color: red;\">\n",
              "The default version of TensorFlow in Colab will soon switch to TensorFlow 2.x.<br>\n",
              "We recommend you <a href=\"https://www.tensorflow.org/guide/migrate\" target=\"_blank\">upgrade</a> now \n",
              "or ensure your notebook will continue to use TensorFlow 1.x via the <code>%tensorflow_version 1.x</code> magic:\n",
              "<a href=\"https://colab.research.google.com/notebooks/tensorflow_version.ipynb\" target=\"_blank\">more info</a>.</p>\n"
            ],
            "text/plain": [
              "<IPython.core.display.HTML object>"
            ]
          },
          "metadata": {
            "tags": []
          }
        }
      ]
    },
    {
      "cell_type": "code",
      "metadata": {
        "id": "tFE-EyEHvKUW",
        "colab_type": "code",
        "colab": {}
      },
      "source": [
        " %tensorflow_version 1.x "
      ],
      "execution_count": 0,
      "outputs": []
    },
    {
      "cell_type": "code",
      "metadata": {
        "id": "hCw23gCE7vXK",
        "colab_type": "code",
        "outputId": "7b480314-9cc2-4b37-9b4e-888b10b595b9",
        "colab": {
          "base_uri": "https://localhost:8080/",
          "height": 121
        }
      },
      "source": [
        "from google.colab import drive\n",
        "drive.mount('/content/drive')"
      ],
      "execution_count": 0,
      "outputs": [
        {
          "output_type": "stream",
          "text": [
            "Go to this URL in a browser: https://accounts.google.com/o/oauth2/auth?client_id=947318989803-6bn6qk8qdgf4n4g3pfee6491hc0brc4i.apps.googleusercontent.com&redirect_uri=urn%3aietf%3awg%3aoauth%3a2.0%3aoob&response_type=code&scope=email%20https%3a%2f%2fwww.googleapis.com%2fauth%2fdocs.test%20https%3a%2f%2fwww.googleapis.com%2fauth%2fdrive%20https%3a%2f%2fwww.googleapis.com%2fauth%2fdrive.photos.readonly%20https%3a%2f%2fwww.googleapis.com%2fauth%2fpeopleapi.readonly\n",
            "\n",
            "Enter your authorization code:\n",
            "··········\n",
            "Mounted at /content/drive\n"
          ],
          "name": "stdout"
        }
      ]
    },
    {
      "cell_type": "code",
      "metadata": {
        "id": "H6dnmvau7wz4",
        "colab_type": "code",
        "colab": {}
      },
      "source": [
        ""
      ],
      "execution_count": 0,
      "outputs": []
    },
    {
      "cell_type": "code",
      "metadata": {
        "id": "fBKjadhN9laN",
        "colab_type": "code",
        "colab": {}
      },
      "source": [
        "import pandas as pd\n",
        "import os\n",
        "import re\n",
        "import numpy as np\n"
      ],
      "execution_count": 0,
      "outputs": []
    },
    {
      "cell_type": "code",
      "metadata": {
        "id": "TsMbVHSd-88B",
        "colab_type": "code",
        "colab": {}
      },
      "source": [
        "data = pd.read_csv(r'/content/drive/My Drive/datasets/wikihowAll.csv')\n",
        "data = data.astype(str)\n",
        "rows, columns = data.shape\n"
      ],
      "execution_count": 0,
      "outputs": []
    },
    {
      "cell_type": "code",
      "metadata": {
        "id": "iUnn8NgKWdf7",
        "colab_type": "code",
        "colab": {}
      },
      "source": [
        "def shuffle(df, n=1, axis=0):\n",
        "  df = df.copy()\n",
        "  for _ in range(n):\n",
        "    df.apply(np.random.shuffle, axis=axis)\n",
        "  return df"
      ],
      "execution_count": 0,
      "outputs": []
    },
    {
      "cell_type": "code",
      "metadata": {
        "id": "2peBBj-f_Gg1",
        "colab_type": "code",
        "colab": {}
      },
      "source": [
        "np_array=np.array(data)"
      ],
      "execution_count": 0,
      "outputs": []
    },
    {
      "cell_type": "code",
      "metadata": {
        "id": "WJCYVcA_XFGf",
        "colab_type": "code",
        "colab": {}
      },
      "source": [
        "np.random.shuffle(np_array)"
      ],
      "execution_count": 0,
      "outputs": []
    },
    {
      "cell_type": "code",
      "metadata": {
        "id": "vwMBGnlTXUT5",
        "colab_type": "code",
        "outputId": "e4e4d06a-a862-4e0b-a030-cb8e3ecbf5ef",
        "colab": {
          "base_uri": "https://localhost:8080/",
          "height": 34
        }
      },
      "source": [
        "np_array.shape"
      ],
      "execution_count": 0,
      "outputs": [
        {
          "output_type": "execute_result",
          "data": {
            "text/plain": [
              "(215365, 3)"
            ]
          },
          "metadata": {
            "tags": []
          },
          "execution_count": 9
        }
      ]
    },
    {
      "cell_type": "code",
      "metadata": {
        "id": "Rn9dBG-GXUI1",
        "colab_type": "code",
        "colab": {}
      },
      "source": [
        "np_array=np_array[:80000]"
      ],
      "execution_count": 0,
      "outputs": []
    },
    {
      "cell_type": "code",
      "metadata": {
        "id": "WKxUj9wd_UxL",
        "colab_type": "code",
        "colab": {}
      },
      "source": [
        "data=pd.DataFrame(np_array,columns=['headline','bakwas','Text'])"
      ],
      "execution_count": 0,
      "outputs": []
    },
    {
      "cell_type": "code",
      "metadata": {
        "id": "sA4KcTTqF3qO",
        "colab_type": "code",
        "outputId": "2f15a276-0bf8-49d0-fa44-d3b0b3c73da5",
        "colab": {
          "base_uri": "https://localhost:8080/",
          "height": 34
        }
      },
      "source": [
        "import numpy as np  \n",
        "import pandas as pd \n",
        "import re           \n",
        "from bs4 import BeautifulSoup \n",
        "from keras.preprocessing.text import Tokenizer \n",
        "from keras.preprocessing.sequence import pad_sequences\n",
        "from nltk.corpus import stopwords   \n",
        "from tensorflow.keras.layers import Input, LSTM, Embedding, Dense, Concatenate, TimeDistributed, Bidirectional\n",
        "from tensorflow.keras.models import Model\n",
        "from tensorflow.keras.callbacks import EarlyStopping\n",
        "import warnings\n",
        "pd.set_option(\"display.max_colwidth\", 200)\n",
        "warnings.filterwarnings(\"ignore\")\n"
      ],
      "execution_count": 0,
      "outputs": [
        {
          "output_type": "stream",
          "text": [
            "Using TensorFlow backend.\n"
          ],
          "name": "stderr"
        }
      ]
    },
    {
      "cell_type": "code",
      "metadata": {
        "id": "Jndw7rVnKTpr",
        "colab_type": "code",
        "outputId": "db66bd54-26d3-4f69-8822-3c03a7a6a17a",
        "colab": {
          "base_uri": "https://localhost:8080/",
          "height": 188
        }
      },
      "source": [
        "from keras import backend as K\n",
        "K.tensorflow_backend._get_available_gpus()"
      ],
      "execution_count": 0,
      "outputs": [
        {
          "output_type": "stream",
          "text": [
            "WARNING:tensorflow:From /usr/local/lib/python3.6/dist-packages/keras/backend/tensorflow_backend.py:190: The name tf.get_default_session is deprecated. Please use tf.compat.v1.get_default_session instead.\n",
            "\n",
            "WARNING:tensorflow:From /usr/local/lib/python3.6/dist-packages/keras/backend/tensorflow_backend.py:197: The name tf.ConfigProto is deprecated. Please use tf.compat.v1.ConfigProto instead.\n",
            "\n",
            "WARNING:tensorflow:From /usr/local/lib/python3.6/dist-packages/keras/backend/tensorflow_backend.py:203: The name tf.Session is deprecated. Please use tf.compat.v1.Session instead.\n",
            "\n",
            "WARNING:tensorflow:From /usr/local/lib/python3.6/dist-packages/keras/backend/tensorflow_backend.py:207: The name tf.global_variables is deprecated. Please use tf.compat.v1.global_variables instead.\n",
            "\n"
          ],
          "name": "stdout"
        },
        {
          "output_type": "execute_result",
          "data": {
            "text/plain": [
              "['/job:localhost/replica:0/task:0/device:GPU:0']"
            ]
          },
          "metadata": {
            "tags": []
          },
          "execution_count": 13
        }
      ]
    },
    {
      "cell_type": "code",
      "metadata": {
        "id": "CYMklqUqKYVz",
        "colab_type": "code",
        "outputId": "73c5d11e-cfdf-4a05-f2f5-62c80672d253",
        "colab": {
          "base_uri": "https://localhost:8080/",
          "height": 380
        }
      },
      "source": [
        "data.head()"
      ],
      "execution_count": 0,
      "outputs": [
        {
          "output_type": "execute_result",
          "data": {
            "text/html": [
              "<div>\n",
              "<style scoped>\n",
              "    .dataframe tbody tr th:only-of-type {\n",
              "        vertical-align: middle;\n",
              "    }\n",
              "\n",
              "    .dataframe tbody tr th {\n",
              "        vertical-align: top;\n",
              "    }\n",
              "\n",
              "    .dataframe thead th {\n",
              "        text-align: right;\n",
              "    }\n",
              "</style>\n",
              "<table border=\"1\" class=\"dataframe\">\n",
              "  <thead>\n",
              "    <tr style=\"text-align: right;\">\n",
              "      <th></th>\n",
              "      <th>headline</th>\n",
              "      <th>bakwas</th>\n",
              "      <th>Text</th>\n",
              "    </tr>\n",
              "  </thead>\n",
              "  <tbody>\n",
              "    <tr>\n",
              "      <th>0</th>\n",
              "      <td>\\nPeel a banana and mash it with a fork in a bowl.,\\nAdd 1 tablespoon (15 grams) of honey to the bowl.,\\nConsider adding 10 drops of lemon juice if you have oily skin.,\\nConsider adding ½ of an av...</td>\n",
              "      <td>How to Nourish Your Face Using a Banana2</td>\n",
              "      <td>Bananas are great at exfoliating your skin, and returning that healthy glow. They are also very moisturizing., Honey is not only moisturizing, but also antibacterial. It's great for relieving dry...</td>\n",
              "    </tr>\n",
              "    <tr>\n",
              "      <th>1</th>\n",
              "      <td>\\nPlay PlayStation online games the same way you would play offline games except you must join a game on the PlayStation Network.</td>\n",
              "      <td>How to Play PlayStation Online3</td>\n",
              "      <td>The option to join a network game appears in the menu when you begin to play any game that is network-enabled. Here are the titles of some popular PS3 online games that you might want to try.\\n\\n...</td>\n",
              "    </tr>\n",
              "    <tr>\n",
              "      <th>2</th>\n",
              "      <td>\\nCultivate a professional appearance.,\\nMaintain your privacy.,\\nBe professional in group work activities.,\\nKeep your workspace neat and organized.</td>\n",
              "      <td>How to Earn Respect at Work3</td>\n",
              "      <td>People respond well to colleagues who appear healthy and professional.In order to command respect, be sure that you are putting forward an image that is professional and put-together. This includ...</td>\n",
              "    </tr>\n",
              "    <tr>\n",
              "      <th>3</th>\n",
              "      <td>\\nDefine the category of fraud.,\\nKnow the elements of fraud.,\\nChoose a court.,\\nComplete the petition.,\\nFile the petition with the court.,\\nHave the petition served on the other party.,\\nSuppor...</td>\n",
              "      <td>How to Prove Fraud</td>\n",
              "      <td>Even though fraud comes from the English common law, there are several modern categories that most fraud falls into. Understanding the type of fraud can help you prove your case. These types of f...</td>\n",
              "    </tr>\n",
              "    <tr>\n",
              "      <th>4</th>\n",
              "      <td>\\nKeep anything in writing.,\\nRecord phone calls or voicemails.,\\nBe observant all the time.,\\nWrite notes in a journal.,\\nWatch for any changes in behavior or escalation.</td>\n",
              "      <td>How to Deal With Stalkers4</td>\n",
              "      <td>If you receive any emails, social media messages, hand-written notes, or gifts, keep them. Your first instinct may be to destroy anything related to the stalker who is making you uncomfortable, b...</td>\n",
              "    </tr>\n",
              "  </tbody>\n",
              "</table>\n",
              "</div>"
            ],
            "text/plain": [
              "                                                                                                                                                                                                  headline  ...                                                                                                                                                                                                     Text\n",
              "0  \\nPeel a banana and mash it with a fork in a bowl.,\\nAdd 1 tablespoon (15 grams) of honey to the bowl.,\\nConsider adding 10 drops of lemon juice if you have oily skin.,\\nConsider adding ½ of an av...  ...   Bananas are great at exfoliating your skin, and returning that healthy glow. They are also very moisturizing., Honey is not only moisturizing, but also antibacterial. It's great for relieving dry...\n",
              "1                                                                        \\nPlay PlayStation online games the same way you would play offline games except you must join a game on the PlayStation Network.  ...   The option to join a network game appears in the menu when you begin to play any game that is network-enabled. Here are the titles of some popular PS3 online games that you might want to try.\\n\\n...\n",
              "2                                                    \\nCultivate a professional appearance.,\\nMaintain your privacy.,\\nBe professional in group work activities.,\\nKeep your workspace neat and organized.  ...   People respond well to colleagues who appear healthy and professional.In order to command respect, be sure that you are putting forward an image that is professional and put-together. This includ...\n",
              "3  \\nDefine the category of fraud.,\\nKnow the elements of fraud.,\\nChoose a court.,\\nComplete the petition.,\\nFile the petition with the court.,\\nHave the petition served on the other party.,\\nSuppor...  ...   Even though fraud comes from the English common law, there are several modern categories that most fraud falls into. Understanding the type of fraud can help you prove your case. These types of f...\n",
              "4                              \\nKeep anything in writing.,\\nRecord phone calls or voicemails.,\\nBe observant all the time.,\\nWrite notes in a journal.,\\nWatch for any changes in behavior or escalation.  ...   If you receive any emails, social media messages, hand-written notes, or gifts, keep them. Your first instinct may be to destroy anything related to the stalker who is making you uncomfortable, b...\n",
              "\n",
              "[5 rows x 3 columns]"
            ]
          },
          "metadata": {
            "tags": []
          },
          "execution_count": 14
        }
      ]
    },
    {
      "cell_type": "code",
      "metadata": {
        "id": "V-sPreNvKbHg",
        "colab_type": "code",
        "colab": {}
      },
      "source": [
        "data.rename(columns={'text':'Text'},inplace=True)"
      ],
      "execution_count": 0,
      "outputs": []
    },
    {
      "cell_type": "code",
      "metadata": {
        "id": "2CCRK6BNLADF",
        "colab_type": "code",
        "outputId": "16293016-0a4d-4cab-93e6-408ff144cd02",
        "colab": {
          "base_uri": "https://localhost:8080/",
          "height": 34
        }
      },
      "source": [
        "data.columns"
      ],
      "execution_count": 0,
      "outputs": [
        {
          "output_type": "execute_result",
          "data": {
            "text/plain": [
              "Index(['headline', 'bakwas', 'Text'], dtype='object')"
            ]
          },
          "metadata": {
            "tags": []
          },
          "execution_count": 16
        }
      ]
    },
    {
      "cell_type": "code",
      "metadata": {
        "id": "Npb0SxPIK5hM",
        "colab_type": "code",
        "colab": {}
      },
      "source": [
        "data.drop_duplicates(subset=['Text'],inplace=True)  #dropping duplicates\n",
        "data.dropna(axis=0,inplace=True)   #dropping na\n"
      ],
      "execution_count": 0,
      "outputs": []
    },
    {
      "cell_type": "code",
      "metadata": {
        "id": "gZwLXmM3K8e2",
        "colab_type": "code",
        "colab": {}
      },
      "source": [
        "contraction_mapping = {\"ain't\": \"is not\", \"aren't\": \"are not\",\"can't\": \"cannot\", \"'cause\": \"because\", \"could've\": \"could have\", \"couldn't\": \"could not\",\n",
        "\n",
        "                           \"didn't\": \"did not\", \"doesn't\": \"does not\", \"don't\": \"do not\", \"hadn't\": \"had not\", \"hasn't\": \"has not\", \"haven't\": \"have not\",\n",
        "\n",
        "                           \"he'd\": \"he would\",\"he'll\": \"he will\", \"he's\": \"he is\", \"how'd\": \"how did\", \"how'd'y\": \"how do you\", \"how'll\": \"how will\", \"how's\": \"how is\",\n",
        "\n",
        "                           \"I'd\": \"I would\", \"I'd've\": \"I would have\", \"I'll\": \"I will\", \"I'll've\": \"I will have\",\"I'm\": \"I am\", \"I've\": \"I have\", \"i'd\": \"i would\",\n",
        "\n",
        "                           \"i'd've\": \"i would have\", \"i'll\": \"i will\",  \"i'll've\": \"i will have\",\"i'm\": \"i am\", \"i've\": \"i have\", \"isn't\": \"is not\", \"it'd\": \"it would\",\n",
        "\n",
        "                           \"it'd've\": \"it would have\", \"it'll\": \"it will\", \"it'll've\": \"it will have\",\"it's\": \"it is\", \"let's\": \"let us\", \"ma'am\": \"madam\",\n",
        "\n",
        "                           \"mayn't\": \"may not\", \"might've\": \"might have\",\"mightn't\": \"might not\",\"mightn't've\": \"might not have\", \"must've\": \"must have\",\n",
        "\n",
        "                           \"mustn't\": \"must not\", \"mustn't've\": \"must not have\", \"needn't\": \"need not\", \"needn't've\": \"need not have\",\"o'clock\": \"of the clock\",\n",
        "\n",
        "                           \"oughtn't\": \"ought not\", \"oughtn't've\": \"ought not have\", \"shan't\": \"shall not\", \"sha'n't\": \"shall not\", \"shan't've\": \"shall not have\",\n",
        "\n",
        "                           \"she'd\": \"she would\", \"she'd've\": \"she would have\", \"she'll\": \"she will\", \"she'll've\": \"she will have\", \"she's\": \"she is\",\n",
        "\n",
        "                           \"should've\": \"should have\", \"shouldn't\": \"should not\", \"shouldn't've\": \"should not have\", \"so've\": \"so have\",\"so's\": \"so as\",\n",
        "\n",
        "                           \"this's\": \"this is\",\"that'd\": \"that would\", \"that'd've\": \"that would have\", \"that's\": \"that is\", \"there'd\": \"there would\",\n",
        "\n",
        "                           \"there'd've\": \"there would have\", \"there's\": \"there is\", \"here's\": \"here is\",\"they'd\": \"they would\", \"they'd've\": \"they would have\",\n",
        "\n",
        "                           \"they'll\": \"they will\", \"they'll've\": \"they will have\", \"they're\": \"they are\", \"they've\": \"they have\", \"to've\": \"to have\",\n",
        "\n",
        "                           \"wasn't\": \"was not\", \"we'd\": \"we would\", \"we'd've\": \"we would have\", \"we'll\": \"we will\", \"we'll've\": \"we will have\", \"we're\": \"we are\",\n",
        "\n",
        "                           \"we've\": \"we have\", \"weren't\": \"were not\", \"what'll\": \"what will\", \"what'll've\": \"what will have\", \"what're\": \"what are\",\n",
        "\n",
        "                           \"what's\": \"what is\", \"what've\": \"what have\", \"when's\": \"when is\", \"when've\": \"when have\", \"where'd\": \"where did\", \"where's\": \"where is\",\n",
        "\n",
        "                           \"where've\": \"where have\", \"who'll\": \"who will\", \"who'll've\": \"who will have\", \"who's\": \"who is\", \"who've\": \"who have\",\n",
        "\n",
        "                           \"why's\": \"why is\", \"why've\": \"why have\", \"will've\": \"will have\", \"won't\": \"will not\", \"won't've\": \"will not have\",\n",
        "\n",
        "                           \"would've\": \"would have\", \"wouldn't\": \"would not\", \"wouldn't've\": \"would not have\", \"y'all\": \"you all\",\n",
        "\n",
        "                           \"y'all'd\": \"you all would\",\"y'all'd've\": \"you all would have\",\"y'all're\": \"you all are\",\"y'all've\": \"you all have\",\n",
        "\n",
        "                           \"you'd\": \"you would\", \"you'd've\": \"you would have\", \"you'll\": \"you will\", \"you'll've\": \"you will have\",\n",
        "\n",
        "                           \"you're\": \"you are\", \"you've\": \"you have\"}\n",
        "\n"
      ],
      "execution_count": 0,
      "outputs": []
    },
    {
      "cell_type": "code",
      "metadata": {
        "id": "c_vzZdaCLoXY",
        "colab_type": "code",
        "outputId": "6bbd41ae-37bc-4732-a19a-b4201c7e8db5",
        "colab": {
          "base_uri": "https://localhost:8080/",
          "height": 222
        }
      },
      "source": [
        "data['Text'][:10]\n"
      ],
      "execution_count": 0,
      "outputs": [
        {
          "output_type": "execute_result",
          "data": {
            "text/plain": [
              "0     Bananas are great at exfoliating your skin, and returning that healthy glow. They are also very moisturizing., Honey is not only moisturizing, but also antibacterial. It's great for relieving dry...\n",
              "1     The option to join a network game appears in the menu when you begin to play any game that is network-enabled. Here are the titles of some popular PS3 online games that you might want to try.\\n\\n...\n",
              "2     People respond well to colleagues who appear healthy and professional.In order to command respect, be sure that you are putting forward an image that is professional and put-together. This includ...\n",
              "3     Even though fraud comes from the English common law, there are several modern categories that most fraud falls into. Understanding the type of fraud can help you prove your case. These types of f...\n",
              "4     If you receive any emails, social media messages, hand-written notes, or gifts, keep them. Your first instinct may be to destroy anything related to the stalker who is making you uncomfortable, b...\n",
              "5     If you only learn one Spanish word for money, make sure it's this one. \"Dinero\" is a very general term for the concept of money that is recognized in virtually all Spanish-speaking cultures.\\n\\n\\...\n",
              "6     Once you start getting better, play faster. Try different techniques- heel up, heel down, or heel-toe.;\\n,, using the ball of your foot to kick down on the pedal, and using your calf muscles).\\n\\...\n",
              "7    ,\\n\\n\\nAngry Birds\\nWord or Puzzle Games\\nTemple Runner or other Endless Running games\\nSHOPPING APPS, these are evil and will keep you for hours on end\\nVideo Chat, no matter how hard it is\\nCame...\n",
              "8     (listings available from the Games Workshop website) Other experienced players are vital to enjoying and learning the game. Watch a few games. Just note what armies are being used and how they ar...\n",
              "9     Always make sure you are balanced when shooting.;\\n, Never jump to the side, forward or backwards (If you are not trying to.)\\n\\n,, That means your elbow is always pointed in the direction of the...\n",
              "Name: Text, dtype: object"
            ]
          },
          "metadata": {
            "tags": []
          },
          "execution_count": 19
        }
      ]
    },
    {
      "cell_type": "code",
      "metadata": {
        "id": "Pt-9tLJqLrU6",
        "colab_type": "code",
        "colab": {}
      },
      "source": [
        ""
      ],
      "execution_count": 0,
      "outputs": []
    },
    {
      "cell_type": "code",
      "metadata": {
        "id": "eyMUT5bkLxLN",
        "colab_type": "code",
        "outputId": "2ea54213-9c52-4c53-a95f-34e63de0657f",
        "colab": {
          "base_uri": "https://localhost:8080/",
          "height": 67
        }
      },
      "source": [
        "import nltk\n",
        "nltk.download('stopwords')"
      ],
      "execution_count": 0,
      "outputs": [
        {
          "output_type": "stream",
          "text": [
            "[nltk_data] Downloading package stopwords to /root/nltk_data...\n",
            "[nltk_data]   Unzipping corpora/stopwords.zip.\n"
          ],
          "name": "stdout"
        },
        {
          "output_type": "execute_result",
          "data": {
            "text/plain": [
              "True"
            ]
          },
          "metadata": {
            "tags": []
          },
          "execution_count": 20
        }
      ]
    },
    {
      "cell_type": "code",
      "metadata": {
        "id": "KldI3kB3RGfx",
        "colab_type": "code",
        "colab": {}
      },
      "source": [
        "stop_words = set(stopwords.words('english')) \n",
        "def text_cleaner(text):\n",
        "    newString = text.lower()\n",
        "    newString = BeautifulSoup(newString, \"lxml\").text\n",
        "    newString = re.sub(r'\\([^)]*\\)', '', newString)\n",
        "    newString = re.sub('\"','', newString)\n",
        "    newString = ' '.join([contraction_mapping[t] if t in contraction_mapping else t for t in newString.split(\" \")])    \n",
        "    newString = re.sub(r\"'s\\b\",\"\",newString)\n",
        "    newString = re.sub(\"[^a-zA-Z]\", \" \", newString) \n",
        "    tokens = [w for w in newString.split() if not w in stop_words]\n",
        "    long_words=[]\n",
        "    for i in tokens:\n",
        "        if len(i)>=3:                  #removing short word\n",
        "            long_words.append(i)   \n",
        "    return (\" \".join(long_words)).strip()\n",
        "\n",
        "cleaned_text = []\n",
        "for t in data['Text']:\n",
        "    cleaned_text.append(text_cleaner(t))"
      ],
      "execution_count": 0,
      "outputs": []
    },
    {
      "cell_type": "code",
      "metadata": {
        "id": "r-CAk38AL33u",
        "colab_type": "code",
        "outputId": "0db316da-137e-420e-f93a-1772c60c8a78",
        "colab": {
          "base_uri": "https://localhost:8080/",
          "height": 34
        }
      },
      "source": [
        "data.columns"
      ],
      "execution_count": 0,
      "outputs": [
        {
          "output_type": "execute_result",
          "data": {
            "text/plain": [
              "Index(['headline', 'bakwas', 'Text'], dtype='object')"
            ]
          },
          "metadata": {
            "tags": []
          },
          "execution_count": 22
        }
      ]
    },
    {
      "cell_type": "code",
      "metadata": {
        "id": "G8Q0gp92MLQu",
        "colab_type": "code",
        "colab": {}
      },
      "source": [
        "data.rename(columns={'headline':'Summary'},inplace=True)"
      ],
      "execution_count": 0,
      "outputs": []
    },
    {
      "cell_type": "code",
      "metadata": {
        "id": "wJD3ngLoMkfK",
        "colab_type": "code",
        "colab": {}
      },
      "source": [
        "def summary_cleaner(text):\n",
        "    newString = re.sub('\"','', text)\n",
        "    newString = ' '.join([contraction_mapping[t] if t in contraction_mapping else t for t in newString.split(\" \")])    \n",
        "    newString = re.sub(r\"'s\\b\",\"\",newString)\n",
        "    newString = re.sub(\"[^a-zA-Z]\", \" \", newString)\n",
        "    newString = newString.lower()\n",
        "    tokens=newString.split()\n",
        "    newString=''\n",
        "    for i in tokens:\n",
        "        if len(i)>1:                                 \n",
        "            newString=newString+i+' '  \n",
        "    return newString\n",
        "\n",
        "#Call the above function\n",
        "cleaned_summary = []\n",
        "for t in data['Summary']:\n",
        "    cleaned_summary.append(summary_cleaner(t))\n",
        "\n",
        "data['cleaned_text']=cleaned_text\n",
        "data['cleaned_summary']=cleaned_summary\n",
        "data['cleaned_summary'].replace('', np.nan, inplace=True)\n",
        "data.dropna(axis=0,inplace=True)\n"
      ],
      "execution_count": 0,
      "outputs": []
    },
    {
      "cell_type": "code",
      "metadata": {
        "id": "GsV7JHtMMn73",
        "colab_type": "code",
        "colab": {}
      },
      "source": [
        "data['cleaned_summary'] = data['cleaned_summary'].apply(lambda x : '_START_ '+ x + ' _END_')\n"
      ],
      "execution_count": 0,
      "outputs": []
    },
    {
      "cell_type": "code",
      "metadata": {
        "id": "ehmAUcOBMy63",
        "colab_type": "code",
        "outputId": "d210a81c-cd1e-4442-e7cc-e2611f162a8a",
        "colab": {
          "base_uri": "https://localhost:8080/",
          "height": 373
        }
      },
      "source": [
        "for i in range(5):\n",
        "    print(\"Review:\",data['cleaned_text'][i])\n",
        "    print(\"Summary:\",data['cleaned_summary'][i])\n",
        "    print(\"\\n\")\n"
      ],
      "execution_count": 0,
      "outputs": [
        {
          "output_type": "stream",
          "text": [
            "Review: bananas great exfoliating skin returning healthy glow also moisturizing honey moisturizing also antibacterial great relieving dry skin zapping blemishes lemon juice great fighting acne blemishes tightens pores reduces oil also helps exfoliate skin keep mind however lemon juice makes skin extra sensitive sunlight best use mask night bed extra honey help balance extra ingredient also give facial extra moisturizing powder lumps chunks clumps want texture smooth take care avoid delicate area around eyes place leftovers jar refrigerate wait try keep head upright possible facial slide need use gentle facial cleanser follow splash cold water upon face seal pores done gently pat face dry soft clean towel continue use notice reduction dryness blemishes skin also healthy glow\n",
            "Summary: _START_ peel banana and mash it with fork in bowl add tablespoon grams of honey to the bowl consider adding drops of lemon juice if you have oily skin consider adding of an avocado and an extra tablespoon grams of honey if you have very dry skin the avocado will help soften and moisturize your skin mash the ingredients together with fork until everything is evenly mixed spread the mask over your face using your fingers wait to minutes during this time the nutrients from the mask will work together to hydrate and nourish your skin rinse the facial off using warm water and soft cloth use the remaining mask within days this mask can be used daily  _END_\n",
            "\n",
            "\n",
            "Review: option join network game appears menu begin play game network enabled titles popular online games might want try killzone resistance metal gear solid tom clancy rainbow grand theft auto guitar hero world tour call duty black ops\n",
            "Summary: _START_ play playstation online games the same way you would play offline games except you must join game on the playstation network  _END_\n",
            "\n",
            "\n",
            "Review: people respond well colleagues appear healthy professional order command respect sure putting forward image professional put together includes wearing clean wrinkle free professional attire hair free split ends tangles professional haircut paying attention personal hygiene wearing appropriate accessories respect often hinges social reputation sure maintain appropriate boundaries work life home life ensure reputation protected resist urge overshare everything personal life takes place outside work example might want discuss much drank weekend work work outings excellent ways bond coworkers however sometimes involve alcohol substances eat drink moderation work outings try maintain professionalism loosen little bit never want cross important boundaries drink excess touch coworkers inappropriately engage gossip bullying etc desk office clean organized professional workplaces permit personal details desk cubicle sure clutter workspace also want make sure personal items appropriate workplace keep anything work might interpreted lewd crude insulting unprofessional\n",
            "Summary: _START_ cultivate professional appearance maintain your privacy be professional in group work activities keep your workspace neat and organized  _END_\n",
            "\n",
            "\n",
            "Review: even though fraud comes english common law several modern categories fraud falls understanding type fraud help prove case types fraud also usually criminal nature reported law enforcement telemarketing mail fraud phone call letter claims act pay money receive sort benefit seems good pass late discover truth telemarketing nigerian prince letters advance fee schemes fraudulent health care fraud includes doctors medical providers prescribing obtaining medical equipment charging insurance instead healthcare need end extra pays insurance bills higher insurance premiums investment fraud ponzi schemes pyramid schemes promised great return invest money business profit depends recruiting investors unbeknownst payouts receive come money others invested work home scams backs magazines full promise working home stuff envelopes assembly work start computer business access bounty buy kit invest equipment give credit card information security deposit prove fraud court must allege prove elements found historical common law general must look define six elements statement representation false first element proving fraud nail statement also called representation made representation words actions presented truth example someone offers sell antique painting fact false would cause change mind complete deal party either knew false acted reckless disregard truth enough simply misleading significant part statement must outright lie false statement must relate material fact instance examined painting discovered print recently created copy statement made intentionally made induce act difficult prove party must known statement false enough seller painting wrong must known wrong intentionally hidden case seller wanted buy painting knew fake intentionally lied get relied acted false statement reliance means without false statement would made different decision believed seller told paid antique painting proved fake relied acted seller intentionally false statement suffered damages either direct loss money spend money correct situation result acting false statement purpose damages restore would fraud occurred plan suing someone fraud need select court argue case claim meets dollar limit usually file case small claims court small claims court advantages rules procedure relaxed need lawyer assist case however still must able document prove element fraud order win claim losses small claims limit state district court case strongly recommended consult civil attorney evaluation case potential representation civil court bound full rules civil procedure jurisdiction held standards attorneys courthouse county live court clerk form package small claims court fill every space leave anything blank question pertain situation mark need name address party name address section describe factual basis case must reference every one six elements fraud pertain situation must identify false statement made intentionally induce act acted suffered damages must also act specific dollar amount damages typically damages amount money lost fraudulent transaction also ask reimbursed court costs sue small claims court completed petition must file court clerk county either party reside pay filing fee typically bring either exact change check many counties especially smaller rural court systems cannot take credit cards court clerk give court date usually days leave time service give party fair time respond prepare case order lawsuit forward must papers legally delivered party called service process easiest way effect service contact sheriff county party located expect pay around action sheriff file affidavit service court papers delivered present case court prove six elements fraud rules relaxed small claims court provide credible evidence part claim using plaintiff checklist help keep organized point pull together every scrap paper anything claim good documents include contracts receipts cancelled checks letters phone messages advertising material make list documents mark one element fraud supports example advertisement misleading false representation invoice paid higher price shows relied advertisement detriment amount sales receipt goes show damages time parade witnesses small claims court elements like intent may explained someone witnessed dealings defendant however usually best witness plaintiff able make statement essentially testifying behalf look six fraud elements jot statements element example questioned defendant price item contract terms toward defendant intent defraud using statement facts wrote petition arrange documents order elements fraud example advertisements showed false price defendant name advertisement shows knew intended price listed contract shows relied advertisement invoice shows charged another price receipt cancelled checks defendant collection letter shows damages jot statements document court may nervous lose train thought notes keep track help professional presentation arrange documents notes binder folder easy access court make two copies document collate sets one set judge set defendant make case smoother pass individual documents around critical time case called present case may dismissed aim least minutes early give time find courtroom organize thoughts give plenty time find parking bring change parking meter arrange childcare ahead time many judges allow young children courtroom cannot leave hallway unattended wear suit fancy dress clothing neat clean professional respectful court wear shirts designs flip flops short revealing clothing comfortable depending many cases judge hear could several hours plaintiff speak first walk court argument one element fraud time refer documents finish presentation request damages court costs plan keeping presentation roughly minutes judge asks questions answer simply directly finish defendant give side story listen quietly respectfully make noises roll eyes fidget chair listen attentively make notes anything disagree defendant finished judge may ask final remarks rebut anything defendant said keep short minutes judge usually make decision immediately either favor defendant regardless judge rules comment complain enter discussion defendant gather documents exit courtroom judge may instruct clerk office instructions\n",
            "Summary: _START_ define the category of fraud know the elements of fraud choose court complete the petition file the petition with the court have the petition served on the other party support your fraud claim gather the documentation establish the testimony organize your case arrive at court present your case listen to the defendant case receive your decision  _END_\n",
            "\n",
            "\n",
            "Review: receive emails social media messages hand written notes gifts keep first instinct may destroy anything related stalker making uncomfortable best keep evidence case need build case print electronic correspondence sure details date time print well keeping items mean look place box keep high shelf closet basement download call recording programs smart phone put call speakerphone use old fashioned tape recorder sure save voicemails threatening violent content report authorities unfortunately one best strategies dealing stalker bit paranoid letting guard little bit paranoid likely pick subtle signs inappropriate contact escalating behaviors ever need make case restraining order file police report much easier detailed specific records stalking activity made uncomfortable sure include dates time journal could also used determine habitual behavior possibly catch avoid stalker stalkers get violent quickly start see signs even general feeling things escalate notify authorities ask help potential signs escalation increased frequency contact attempted contact increased severity threats increased display emotion stronger words physically closer encounters increased contact friends relatives\n",
            "Summary: _START_ keep anything in writing record phone calls or voicemails be observant all the time write notes in journal watch for any changes in behavior or escalation  _END_\n",
            "\n",
            "\n"
          ],
          "name": "stdout"
        }
      ]
    },
    {
      "cell_type": "code",
      "metadata": {
        "id": "3CAORYBBM4jB",
        "colab_type": "code",
        "outputId": "811bfe8c-579d-4976-9aeb-be0f20406077",
        "colab": {
          "base_uri": "https://localhost:8080/",
          "height": 281
        }
      },
      "source": [
        "import matplotlib.pyplot as plt\n",
        "text_word_count = []\n",
        "summary_word_count = []\n",
        "\n",
        "# populate the lists with sentence lengths\n",
        "for i in data['cleaned_text']:\n",
        "      text_word_count.append(len(i.split()))\n",
        "\n",
        "for i in data['cleaned_summary']:\n",
        "      summary_word_count.append(len(i.split()))\n",
        "\n",
        "length_df = pd.DataFrame({'text':text_word_count, 'summary':summary_word_count})\n",
        "length_df.hist(bins = 30)\n",
        "plt.show()\n"
      ],
      "execution_count": 0,
      "outputs": [
        {
          "output_type": "display_data",
          "data": {
            "image/png": "[encoded data removed]",
            "text/plain": [
              "<Figure size 432x288 with 2 Axes>"
            ]
          },
          "metadata": {
            "tags": []
          }
        }
      ]
    },
    {
      "cell_type": "code",
      "metadata": {
        "id": "iZe83tvGNBQc",
        "colab_type": "code",
        "colab": {}
      },
      "source": [
        "max_len_text=80 \n",
        "max_len_summary=10\n"
      ],
      "execution_count": 0,
      "outputs": []
    },
    {
      "cell_type": "code",
      "metadata": {
        "id": "H_Iwfuo1NHHU",
        "colab_type": "code",
        "colab": {}
      },
      "source": [
        "from sklearn.model_selection import train_test_split\n",
        "x_tr,x_val,y_tr,y_val=train_test_split(data['cleaned_text'],data['cleaned_summary'],test_size=0.37,random_state=0,shuffle=True) \n"
      ],
      "execution_count": 0,
      "outputs": []
    },
    {
      "cell_type": "code",
      "metadata": {
        "id": "yHaqpVHuNKhy",
        "colab_type": "code",
        "colab": {}
      },
      "source": [
        "x_tokenizer = Tokenizer()\n",
        "x_tokenizer.fit_on_texts(list(x_tr))\n",
        "\n",
        "x_tr    =   x_tokenizer.texts_to_sequences(x_tr) \n",
        "x_val   =   x_tokenizer.texts_to_sequences(x_val)\n",
        "\n",
        "x_tr    =   pad_sequences(x_tr,  maxlen=max_len_text, padding='post') \n",
        "x_val   =   pad_sequences(x_val, maxlen=max_len_text, padding='post')\n",
        "\n",
        "x_voc_size   =  len(x_tokenizer.word_index) +1\n"
      ],
      "execution_count": 0,
      "outputs": []
    },
    {
      "cell_type": "code",
      "metadata": {
        "id": "zo6TfgjzNNAV",
        "colab_type": "code",
        "colab": {}
      },
      "source": [
        "y_tokenizer = Tokenizer()\n",
        "y_tokenizer.fit_on_texts(list(y_tr))\n",
        "\n",
        "y_tr    =   y_tokenizer.texts_to_sequences(y_tr) \n",
        "y_val   =   y_tokenizer.texts_to_sequences(y_val) \n",
        "\n",
        "y_tr    =   pad_sequences(y_tr, maxlen=max_len_summary, padding='post')\n",
        "y_val   =   pad_sequences(y_val, maxlen=max_len_summary, padding='post')\n",
        "\n",
        "y_voc_size  =   len(y_tokenizer.word_index) +1\n"
      ],
      "execution_count": 0,
      "outputs": []
    },
    {
      "cell_type": "code",
      "metadata": {
        "id": "b6J9Ha_3NaJB",
        "colab_type": "code",
        "outputId": "91dc660d-7b86-49a3-a7f9-7ccfd6728ebf",
        "colab": {
          "base_uri": "https://localhost:8080/",
          "height": 810
        }
      },
      "source": [
        "from keras import backend as K \n",
        "K.clear_session() \n",
        "latent_dim = 500 \n",
        "\n",
        "encoder_inputs = Input(shape=(max_len_text,)) \n",
        "enc_emb = Embedding(x_voc_size, latent_dim,trainable=True)(encoder_inputs) \n",
        "\n",
        "encoder_lstm1 = LSTM(latent_dim,return_sequences=True,return_state=True) \n",
        "encoder_output1, state_h1, state_c1 = encoder_lstm1(enc_emb) \n",
        "\n",
        "encoder_lstm2 = LSTM(latent_dim,return_sequences=True,return_state=True) \n",
        "encoder_output2, state_h2, state_c2 = encoder_lstm2(encoder_output1) \n",
        "\n",
        "\n",
        "encoder_lstm3=LSTM(latent_dim, return_state=True, return_sequences=True) \n",
        "encoder_outputs, state_h, state_c= encoder_lstm3(encoder_output2) \n",
        "\n",
        "\n",
        "decoder_inputs = Input(shape=(None,)) \n",
        "dec_emb_layer = Embedding(y_voc_size, latent_dim,trainable=True) \n",
        "dec_emb = dec_emb_layer(decoder_inputs) \n",
        "\n",
        "decoder_lstm = LSTM(latent_dim, return_sequences=True, return_state=True) \n",
        "decoder_outputs,decoder_fwd_state, decoder_back_state = decoder_lstm(dec_emb,initial_state=[state_h, state_c]) \n",
        "\n",
        "attn_layer = AttentionLayer(name='attention_layer') \n",
        "attn_out, attn_states = attn_layer([encoder_outputs, decoder_outputs]) \n",
        "\n",
        "decoder_concat_input = Concatenate(axis=-1, name='concat_layer')([decoder_outputs, attn_out])\n",
        "\n",
        "decoder_dense = TimeDistributed(Dense(y_voc_size, activation='softmax')) \n",
        "decoder_outputs = decoder_dense(decoder_concat_input) \n",
        "\n",
        "model = Model([encoder_inputs, decoder_inputs], decoder_outputs) \n",
        "model.summary()\n"
      ],
      "execution_count": 0,
      "outputs": [
        {
          "output_type": "stream",
          "text": [
            "WARNING:tensorflow:From /usr/local/lib/python3.6/dist-packages/keras/backend/tensorflow_backend.py:107: The name tf.reset_default_graph is deprecated. Please use tf.compat.v1.reset_default_graph instead.\n",
            "\n",
            "WARNING:tensorflow:From /usr/local/lib/python3.6/dist-packages/keras/backend/tensorflow_backend.py:111: The name tf.placeholder_with_default is deprecated. Please use tf.compat.v1.placeholder_with_default instead.\n",
            "\n",
            "WARNING:tensorflow:From /usr/local/lib/python3.6/dist-packages/keras/backend/tensorflow_backend.py:66: The name tf.get_default_graph is deprecated. Please use tf.compat.v1.get_default_graph instead.\n",
            "\n",
            "WARNING:tensorflow:From /usr/local/lib/python3.6/dist-packages/tensorflow_core/python/keras/initializers.py:119: calling RandomUniform.__init__ (from tensorflow.python.ops.init_ops) with dtype is deprecated and will be removed in a future version.\n",
            "Instructions for updating:\n",
            "Call initializer instance with the dtype argument instead of passing it to the constructor\n",
            "WARNING:tensorflow:From /usr/local/lib/python3.6/dist-packages/tensorflow_core/python/ops/resource_variable_ops.py:1630: calling BaseResourceVariable.__init__ (from tensorflow.python.ops.resource_variable_ops) with constraint is deprecated and will be removed in a future version.\n",
            "Instructions for updating:\n",
            "If using Keras pass *_constraint arguments to layers.\n",
            "Model: \"model\"\n",
            "__________________________________________________________________________________________________\n",
            "Layer (type)                    Output Shape         Param #     Connected to                     \n",
            "==================================================================================================\n",
            "input_1 (InputLayer)            [(None, 80)]         0                                            \n",
            "__________________________________________________________________________________________________\n",
            "embedding (Embedding)           (None, 80, 500)      42183000    input_1[0][0]                    \n",
            "__________________________________________________________________________________________________\n",
            "lstm (LSTM)                     [(None, 80, 500), (N 2002000     embedding[0][0]                  \n",
            "__________________________________________________________________________________________________\n",
            "input_2 (InputLayer)            [(None, None)]       0                                            \n",
            "__________________________________________________________________________________________________\n",
            "lstm_1 (LSTM)                   [(None, 80, 500), (N 2002000     lstm[0][0]                       \n",
            "__________________________________________________________________________________________________\n",
            "embedding_1 (Embedding)         (None, None, 500)    21243000    input_2[0][0]                    \n",
            "__________________________________________________________________________________________________\n",
            "lstm_2 (LSTM)                   [(None, 80, 500), (N 2002000     lstm_1[0][0]                     \n",
            "__________________________________________________________________________________________________\n",
            "lstm_3 (LSTM)                   [(None, None, 500),  2002000     embedding_1[0][0]                \n",
            "                                                                 lstm_2[0][1]                     \n",
            "                                                                 lstm_2[0][2]                     \n",
            "__________________________________________________________________________________________________\n",
            "attention_layer (AttentionLayer ((None, None, 500),  500500      lstm_2[0][0]                     \n",
            "                                                                 lstm_3[0][0]                     \n",
            "__________________________________________________________________________________________________\n",
            "concat_layer (Concatenate)      (None, None, 1000)   0           lstm_3[0][0]                     \n",
            "                                                                 attention_layer[0][0]            \n",
            "__________________________________________________________________________________________________\n",
            "time_distributed (TimeDistribut (None, None, 42486)  42528486    concat_layer[0][0]               \n",
            "==================================================================================================\n",
            "Total params: 114,462,986\n",
            "Trainable params: 114,462,986\n",
            "Non-trainable params: 0\n",
            "__________________________________________________________________________________________________\n"
          ],
          "name": "stdout"
        }
      ]
    },
    {
      "cell_type": "code",
      "metadata": {
        "id": "SU6NbsWVNhs0",
        "colab_type": "code",
        "colab": {}
      },
      "source": [
        "model.compile(optimizer='rmsprop', loss='sparse_categorical_crossentropy')"
      ],
      "execution_count": 0,
      "outputs": []
    },
    {
      "cell_type": "code",
      "metadata": {
        "id": "f1LRN-FUPIbG",
        "colab_type": "code",
        "colab": {}
      },
      "source": [
        "es = EarlyStopping(monitor='val_loss', mode='min', verbose=1)\n"
      ],
      "execution_count": 0,
      "outputs": []
    },
    {
      "cell_type": "code",
      "metadata": {
        "id": "2Ut3MY5gPKQD",
        "colab_type": "code",
        "outputId": "17f85c23-2955-48eb-d397-ab345212ac3e",
        "colab": {
          "base_uri": "https://localhost:8080/",
          "height": 322
        }
      },
      "source": [
        "history=model.fit([x_tr,y_tr[:,:-1]], y_tr.reshape(y_tr.shape[0],y_tr.shape[1], 1)[:,1:] ,epochs=50,callbacks=[es],batch_size=512, validation_data=([x_val,y_val[:,:-1]], y_val.reshape(y_val.shape[0],y_val.shape[1], 1)[:,1:]))\n"
      ],
      "execution_count": 0,
      "outputs": [
        {
          "output_type": "stream",
          "text": [
            "WARNING:tensorflow:From /usr/local/lib/python3.6/dist-packages/tensorflow_core/python/ops/math_grad.py:1424: where (from tensorflow.python.ops.array_ops) is deprecated and will be removed in a future version.\n",
            "Instructions for updating:\n",
            "Use tf.where in 2.0, which has the same broadcast rule as np.where\n",
            "Train on 49010 samples, validate on 28785 samples\n",
            "Epoch 1/50\n",
            "49010/49010 [==============================] - 105s 2ms/sample - loss: 6.7243 - val_loss: 6.2483\n",
            "Epoch 2/50\n",
            "49010/49010 [==============================] - 97s 2ms/sample - loss: 6.0399 - val_loss: 5.8745\n",
            "Epoch 3/50\n",
            "49010/49010 [==============================] - 97s 2ms/sample - loss: 5.7198 - val_loss: 5.6657\n",
            "Epoch 4/50\n",
            "49010/49010 [==============================] - 97s 2ms/sample - loss: 5.4264 - val_loss: 5.4717\n",
            "Epoch 5/50\n",
            "49010/49010 [==============================] - 97s 2ms/sample - loss: 5.1794 - val_loss: 5.3280\n",
            "Epoch 6/50\n",
            "49010/49010 [==============================] - 97s 2ms/sample - loss: 4.9561 - val_loss: 5.3427\n",
            "Epoch 00006: early stopping\n"
          ],
          "name": "stdout"
        }
      ]
    },
    {
      "cell_type": "code",
      "metadata": {
        "id": "nP3SBa3UPMYv",
        "colab_type": "code",
        "colab": {}
      },
      "source": [
        "model.save('jobhihai.h5')"
      ],
      "execution_count": 0,
      "outputs": []
    },
    {
      "cell_type": "code",
      "metadata": {
        "id": "iv6KvlUBtz9M",
        "colab_type": "code",
        "colab": {}
      },
      "source": [
        "model.save('jobhihai1.pickle')"
      ],
      "execution_count": 0,
      "outputs": []
    },
    {
      "cell_type": "code",
      "metadata": {
        "id": "qIhXVrl3ilgf",
        "colab_type": "code",
        "colab": {}
      },
      "source": [
        ""
      ],
      "execution_count": 0,
      "outputs": []
    }
  ]
}