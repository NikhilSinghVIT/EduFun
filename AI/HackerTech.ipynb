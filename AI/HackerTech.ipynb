{
 "cells": [
  {
   "cell_type": "code",
   "execution_count": null,
   "metadata": {},
   "outputs": [],
   "source": []
  },
  {
   "cell_type": "code",
   "execution_count": 37,
   "metadata": {},
   "outputs": [
    {
     "data": {
      "text/plain": [
       "{'output': 'The Third Battle of Panipat took place on 14 January 1761 at Panipat, about 97 km (60 miles) north of Delhi, between the Maratha Empire and the invading Afghan army of under the King of Afghans, Ahmad Shah Abdali, supported by three Indian allies — the Rohilla Najib-ud-daulah, Afghans of the Doab region, and Shuja-ud-Daula, the Nawab of Awadh.',\n",
       " 'id': '1a9bbd75-13ff-45f7-9d49-a797119a35d3'}"
      ]
     },
     "execution_count": 37,
     "metadata": {},
     "output_type": "execute_result"
    }
   ],
   "source": [
    "import requests\n",
    "text=\"\"\"The Third Battle of Panipat took place on 14 January 1761 at Panipat, about 97 km (60 miles) north of Delhi, between the Maratha Empire and the invading Afghan army of under the King of Afghans, Ahmad Shah Abdali, supported by three Indian allies — the Rohilla Najib-ud-daulah, Afghans of the Doab region, and Shuja-ud-Daula, the Nawab of Awadh. The Maratha army was led by Sadashivrao Bhau who was third in authority after the Chhatrapati (Maratha King) and the Peshwa (Maratha Prime Minister). The main Maratha army was stationed in Deccan with the Peshwa. Militarily, the battle pitted the artillery and cavalry of the Marathas against the heavy cavalry and mounted artillery (zamburak and jezail) of the Afghans and Rohillas led by Abdali and Najib-ud-Daulah, both ethnic Afghans. The battle is considered one of the largest and most eventful fought in the 18th century,[8] and it has perhaps the largest number of fatalities in a single day reported in a classic formation battle between two armies.\"\"\"\n",
    "r = requests.post(\n",
    "    \"https://api.deepai.org/api/summarization\",\n",
    "    data={\n",
    "        'text': text,\n",
    "    },\n",
    "    headers={'api-key': 'quickstart-QUdJIGlzIGNvbWluZy4uLi4K'}\n",
    ")\n",
    "result = r.json()\n",
    "result"
   ]
  },
  {
   "cell_type": "code",
   "execution_count": 3,
   "metadata": {},
   "outputs": [
    {
     "data": {
      "text/plain": [
       "'The Third Battle of Panipat took place on 14 January 1761 at Panipat, about 97 km (60 miles) north of Delhi, between the Maratha Empire and the invading Afghan army of under the King of Afghans, Ahmad Shah Abdali, supported by three Indian allies — the Rohilla Najib-ud-daulah, Afghans of the Doab region, and Shuja-ud-Daula, the Nawab of Awadh.'"
      ]
     },
     "execution_count": 3,
     "metadata": {},
     "output_type": "execute_result"
    }
   ],
   "source": [
    "result['output']"
   ]
  },
  {
   "cell_type": "code",
   "execution_count": 4,
   "metadata": {},
   "outputs": [],
   "source": [
    "result=result['output'].split(\".\")"
   ]
  },
  {
   "cell_type": "code",
   "execution_count": 5,
   "metadata": {},
   "outputs": [
    {
     "data": {
      "text/plain": [
       "['The Third Battle of Panipat took place on 14 January 1761 at Panipat, about 97 km (60 miles) north of Delhi, between the Maratha Empire and the invading Afghan army of under the King of Afghans, Ahmad Shah Abdali, supported by three Indian allies — the Rohilla Najib-ud-daulah, Afghans of the Doab region, and Shuja-ud-Daula, the Nawab of Awadh',\n",
       " '']"
      ]
     },
     "execution_count": 5,
     "metadata": {},
     "output_type": "execute_result"
    }
   ],
   "source": [
    "result"
   ]
  },
  {
   "cell_type": "code",
   "execution_count": 6,
   "metadata": {},
   "outputs": [
    {
     "data": {
      "text/plain": [
       "2"
      ]
     },
     "execution_count": 6,
     "metadata": {},
     "output_type": "execute_result"
    }
   ],
   "source": [
    "len(result)"
   ]
  },
  {
   "cell_type": "code",
   "execution_count": 9,
   "metadata": {},
   "outputs": [
    {
     "name": "stdout",
     "output_type": "stream",
     "text": [
      "[('rohilla najib-ud-daulah', 15.5), ('shuja-ud-daula', 9.5), ('invading afghan army', 9.0), ('ahmad shah abdali', 9.0), ('maratha empire', 4.0), ('indian allies —', 4.0), ('doab region', 4.0), ('battle', 1.0), ('panipat', 1.0), ('place', 1.0), ('14 january 1761', 1.0), ('97 km', 1.0), ('60 miles', 1.0), ('north', 1.0), ('delhi', 1.0), ('king', 1.0), ('afghans', 1.0), ('supported', 1.0), ('nawab', 1.0), ('awadh', 1.0)]\n",
      "[]\n"
     ]
    }
   ],
   "source": [
    "import RAKE\n",
    "import operator\n",
    "\n",
    "stop_dir = \"C://Users/Divesh/Desktop/NLP/SmartStoplist.txt\"\n",
    "rake_object = RAKE.Rake(stop_dir)\n",
    "\n",
    "for res in result:\n",
    "    text = res\n",
    "    keywords= rake_object.run(text)\n",
    "    print(keywords)"
   ]
  },
  {
   "cell_type": "code",
   "execution_count": 19,
   "metadata": {},
   "outputs": [],
   "source": [
    "import pickle\n",
    "import random"
   ]
  },
  {
   "cell_type": "markdown",
   "metadata": {},
   "source": [
    "import random"
   ]
  },
  {
   "cell_type": "code",
   "execution_count": 12,
   "metadata": {},
   "outputs": [],
   "source": [
    "file = open('mysavedmodel.pkl','rb')\n",
    "model = pickle.load(file)"
   ]
  },
  {
   "cell_type": "code",
   "execution_count": 33,
   "metadata": {},
   "outputs": [
    {
     "data": {
      "text/plain": [
       "['nawab', 'commius', 'sokollu']"
      ]
     },
     "execution_count": 33,
     "metadata": {},
     "output_type": "execute_result"
    }
   ],
   "source": [
    "ans=model.most_similar('shuja-ud-daula',topn=3)\n",
    "ans_arr=[x for x,y in ans]\n",
    "ans_arr"
   ]
  },
  {
   "cell_type": "code",
   "execution_count": 34,
   "metadata": {},
   "outputs": [],
   "source": [
    "def shuff_func(answer,model):\n",
    "    full_res=model.most_similar(answer,topn=3)\n",
    "    ans_arr=[x for x,y in full_res]\n",
    "    ans_arr.append(answer)\n",
    "    random.shuffle(ans_arr)\n",
    "    return ans_arr"
   ]
  },
  {
   "cell_type": "code",
   "execution_count": 35,
   "metadata": {},
   "outputs": [
    {
     "data": {
      "text/plain": [
       "[('nawab', 0.46226245164871216),\n",
       " ('commius', 0.43778955936431885),\n",
       " ('sokollu', 0.4234265983104706),\n",
       " ('cesarone', 0.42268818616867065),\n",
       " ('ereshkigal', 0.42218050360679626),\n",
       " ('hermenegild', 0.4195825457572937),\n",
       " ('astorre', 0.41957899928092957),\n",
       " ('matsukata', 0.4180808365345001),\n",
       " ('ettaba', 0.40907686948776245),\n",
       " ('abaoji', 0.40841153264045715)]"
      ]
     },
     "execution_count": 35,
     "metadata": {},
     "output_type": "execute_result"
    }
   ],
   "source": [
    "model.most_similar('shuja-ud-daula')"
   ]
  },
  {
   "cell_type": "code",
   "execution_count": 36,
   "metadata": {},
   "outputs": [
    {
     "name": "stdout",
     "output_type": "stream",
     "text": [
      "['sokollu', 'nawab', 'shuja-ud-daula', 'commius']\n"
     ]
    }
   ],
   "source": [
    "print(shuff_func('shuja-ud-daula',model))"
   ]
  },
  {
   "cell_type": "code",
   "execution_count": null,
   "metadata": {},
   "outputs": [],
   "source": []
  }
 ],
 "metadata": {
  "kernelspec": {
   "display_name": "Python 3",
   "language": "python",
   "name": "python3"
  },
  "language_info": {
   "codemirror_mode": {
    "name": "ipython",
    "version": 3
   },
   "file_extension": ".py",
   "mimetype": "text/x-python",
   "name": "python",
   "nbconvert_exporter": "python",
   "pygments_lexer": "ipython3",
   "version": "3.7.3"
  }
 },
 "nbformat": 4,
 "nbformat_minor": 2
}
